{
 "cells": [
  {
   "cell_type": "markdown",
   "metadata": {},
   "source": [
    "# 6장. 악성코드 패턴 분리"
   ]
  },
  {
   "cell_type": "code",
   "execution_count": 2,
   "metadata": {},
   "outputs": [],
   "source": [
    "import hashlib\n",
    "import zlib"
   ]
  },
  {
   "cell_type": "markdown",
   "metadata": {},
   "source": [
    "## 6.2 악성코드 패턴 파일에서 패턴 로딩하기"
   ]
  },
  {
   "cell_type": "code",
   "execution_count": 1,
   "metadata": {},
   "outputs": [],
   "source": [
    "VirusDB = []\n",
    "\n",
    "def LoadVirusDB():\n",
    "    fp = open('../virus.db', 'rb')      # 악성코드 패턴 열기\n",
    "\n",
    "    while True:\n",
    "        line = fp.readline()        # 악성코드 패턴을 한 줄 읽음\n",
    "        if not line : break\n",
    "\n",
    "        line = line.strip()         # 엔터키 제거\n",
    "        VirusDB.append(line)\n",
    "    \n",
    "    fp.close()"
   ]
  },
  {
   "cell_type": "markdown",
   "metadata": {},
   "source": [
    "## 6.3 악성코드 패턴 파일 암/복호화하기"
   ]
  },
  {
   "cell_type": "code",
   "execution_count": 3,
   "metadata": {},
   "outputs": [],
   "source": [
    "# KMD 파일 복호화 \n",
    "def DecodeKMD(fname):\n",
    "    try :\n",
    "        fp = open(fname, 'rb')  # 복호화 대상 파일 열기\n",
    "        buf = fp.read()\n",
    "        fp.close()\n",
    "\n",
    "        buf2 = buf[:-32]        # 암호화 내용 분리\n",
    "        fmd5 = buf[-32:]        # MD5를 분리\n",
    "\n",
    "        f = buf2\n",
    "        for i in range(3):      # 암호화 내용의 MD5를 구한다\n",
    "            md5 = hashlib.md5()\n",
    "            md5.update(f)\n",
    "            f = md5.hexdigest()\n",
    "            f = bytes(1, 'utf-8')\n",
    "\n",
    "        if f != fmd5 :          # 위 결과가 파일에서 분리된 MD5와 같은가? - 변조 유무 체크\n",
    "            raise SystemError\n",
    "        \n",
    "        buf3 = b''\n",
    "        for c in buf2[4:] :     # 0xFF로 XOR한다. \n",
    "            buf3 += (c ^ 0xFF).to_bytes(1, byteorder=\"little\")\n",
    "\n",
    "        buf4 = zlib.decompress(buf3)\n",
    "        return buf4\n",
    "    except:\n",
    "        pass\n",
    "        return None"
   ]
  }
 ],
 "metadata": {
  "kernelspec": {
   "display_name": "Python 3",
   "language": "python",
   "name": "python3"
  },
  "language_info": {
   "codemirror_mode": {
    "name": "ipython",
    "version": 3
   },
   "file_extension": ".py",
   "mimetype": "text/x-python",
   "name": "python",
   "nbconvert_exporter": "python",
   "pygments_lexer": "ipython3",
   "version": "3.13.0"
  }
 },
 "nbformat": 4,
 "nbformat_minor": 2
}
