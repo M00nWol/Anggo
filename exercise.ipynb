{
 "cells": [
  {
   "cell_type": "markdown",
   "metadata": {},
   "source": [
    "# 4장. 전용 백신 개발하기"
   ]
  },
  {
   "cell_type": "code",
   "execution_count": null,
   "metadata": {},
   "outputs": [],
   "source": [
    "import os"
   ]
  },
  {
   "cell_type": "code",
   "execution_count": 28,
   "metadata": {},
   "outputs": [],
   "source": [
    "# X5O!P%@AP[4\\PZX54(P^)7CC)7}$EICAR-STANDARD-ANTIVIRUS-TEST-FILE!$H+H*\n",
    "eicar = './sample/EICAR.txt'"
   ]
  },
  {
   "cell_type": "code",
   "execution_count": null,
   "metadata": {},
   "outputs": [
    {
     "data": {
      "text/plain": [
       "68"
      ]
     },
     "execution_count": 14,
     "metadata": {},
     "output_type": "execute_result"
    }
   ],
   "source": [
    "# 파일 열기\n",
    "fp = open(eicar, 'rb')\n",
    "fbuf = fp.read()\n",
    "fp.close()\n",
    "len(fbuf)"
   ]
  },
  {
   "cell_type": "code",
   "execution_count": 4,
   "metadata": {},
   "outputs": [
    {
     "name": "stdout",
     "output_type": "stream",
     "text": [
      "Virus\n"
     ]
    }
   ],
   "source": [
    "# 파일 내용과 악성코드 진단 문자열 비교하기\n",
    "if fbuf[0:3] == b'X5O':     # 파일의 앞 3 Byte가 'X50'인가?\n",
    "    print('Virus')\n",
    "else :\n",
    "    print('No Virus')"
   ]
  },
  {
   "cell_type": "code",
   "execution_count": null,
   "metadata": {},
   "outputs": [
    {
     "name": "stdout",
     "output_type": "stream",
     "text": [
      "Virus\n"
     ]
    }
   ],
   "source": [
    "# 악성코드 삭제하기\n",
    "if fbuf[0:3] == b'X5O':\n",
    "    print('Virus')\n",
    "    os.remove(eicar)\n",
    "else :\n",
    "    print('No Virus')"
   ]
  },
  {
   "cell_type": "markdown",
   "metadata": {},
   "source": [
    "### 해시"
   ]
  },
  {
   "cell_type": "code",
   "execution_count": null,
   "metadata": {},
   "outputs": [
    {
     "name": "stdout",
     "output_type": "stream",
     "text": [
      "5d41402abc4b2a76b9719d911017c592\n",
      "44d88612fea8a8f36de82e1278abb02f\n"
     ]
    }
   ],
   "source": [
    "import hashlib\n",
    "m = hashlib.md5()\n",
    "m.update(b'hello')  # 문자열 hello의 MD5 해시를 구함\n",
    "print(m.hexdigest())\n",
    "\n",
    "fp = open(eicar, 'rb') # 바이너리 모드로 읽기\n",
    "fbuf = fp.read()\n",
    "fp.close()\n",
    "\n",
    "m1 = hashlib.md5()\n",
    "m1.update(fbuf)\n",
    "fmd5 = m1.hexdigest()\n",
    "print(fmd5)\n"
   ]
  },
  {
   "cell_type": "markdown",
   "metadata": {},
   "source": [
    "#### MD5 해시를 이용해서 EICAR Test 파일 검사하기"
   ]
  },
  {
   "cell_type": "code",
   "execution_count": null,
   "metadata": {},
   "outputs": [
    {
     "name": "stdout",
     "output_type": "stream",
     "text": [
      "Virus\n"
     ]
    }
   ],
   "source": [
    "import hashlib\n",
    "import os\n",
    "\n",
    "fp = open(eicar, 'rb') # 바이너리 모드로 읽기\n",
    "fbuf = fp.read()\n",
    "fp.close()\n",
    "\n",
    "m = hashlib.md5()\n",
    "m.update(fbuf)\n",
    "fmd5 = m.hexdigest()\n",
    "\n",
    "# EICAR Test 파일 MD5와 비교\n",
    "if fmd5 == '44d88612fea8a8f36de82e1278abb02f' :\n",
    "    print('Virus')\n",
    "    os.remove(eicar)\n",
    "else :\n",
    "    print('No Virus')"
   ]
  },
  {
   "cell_type": "markdown",
   "metadata": {},
   "source": [
    "# 5장. 다양한 악성코드를 진단/치료하기"
   ]
  },
  {
   "cell_type": "markdown",
   "metadata": {},
   "source": [
    "## 악성코드 진단하기 - 연습"
   ]
  },
  {
   "cell_type": "code",
   "execution_count": 30,
   "metadata": {},
   "outputs": [],
   "source": [
    "# Dummy Engine test file - Anggo Anti-Virus Project, 2025, M00nWol\n",
    "dummy = './sample/dummy.txt'"
   ]
  },
  {
   "cell_type": "code",
   "execution_count": 32,
   "metadata": {},
   "outputs": [
    {
     "name": "stdout",
     "output_type": "stream",
     "text": [
      "253a394610d705549fc580934da4f114\n"
     ]
    }
   ],
   "source": [
    "# dummy 해시 확인\n",
    "fp = open(dummy, 'rb')\n",
    "fbuf = fp.read()\n",
    "fp.close()\n",
    "\n",
    "m = hashlib.md5()\n",
    "m.update(fbuf)\n",
    "print(m.hexdigest())"
   ]
  },
  {
   "cell_type": "code",
   "execution_count": 35,
   "metadata": {},
   "outputs": [
    {
     "name": "stdout",
     "output_type": "stream",
     "text": [
      "Dummy Test Virus\n"
     ]
    }
   ],
   "source": [
    "# MD5 해시를 이용해서 Dummy Test 파일 검사하기 - EICAR 파일과 비교\n",
    "dummy_md5 = m.hexdigest()\n",
    "if dummy_md5 == '44d88612fea8a8f36de82e1278abb02f' :\n",
    "    print('EICAR Test Virus')\n",
    "elif dummy_md5 == '253a394610d705549fc580934da4f114':\n",
    "    print('Dummy Test Virus')\n",
    "else : \n",
    "    print('No Virus')"
   ]
  },
  {
   "cell_type": "code",
   "execution_count": null,
   "metadata": {},
   "outputs": [
    {
     "name": "stdout",
     "output_type": "stream",
     "text": [
      "['44d88612fea8a8f36de82e1278abb02f', 'EICAR Test']\n",
      "['253a394610d705549fc580934da4f114', 'Dummy Test']\n"
     ]
    }
   ],
   "source": [
    "# 리스트를 사용하여 악성코드 바이러스 DB 정의 + 가공공\n",
    "VirusDB = [\n",
    "    '44d88612fea8a8f36de82e1278abb02f:EICAR Test',\n",
    "    '253a394610d705549fc580934da4f114:Dummy Test'\n",
    "]\n",
    "\n",
    "vdb = []    # 가공된 악성코드 DB가 저장됨\n",
    "\n",
    "def MakeVirusDB() :\n",
    "    for pattern in VirusDB:\n",
    "        t = []\n",
    "        v = pattern.split(':')  # 세미콜론을 기준으로 자름\n",
    "        t.append(v[0])  # MD5 해시 저장\n",
    "        t.append(v[1])  # 악성코드 이름 저장\n",
    "        vdb.append(t)   # 최종 vdb에 저장\n",
    "\n",
    "\n",
    "\n",
    "MakeVirusDB()\n",
    "print(vdb[0])\n",
    "print(vdb[1])"
   ]
  },
  {
   "cell_type": "markdown",
   "metadata": {},
   "source": [
    "## 악성코드 진단하기 - 최종"
   ]
  },
  {
   "cell_type": "code",
   "execution_count": null,
   "metadata": {},
   "outputs": [],
   "source": [
    "import sys\n",
    "import os\n",
    "import hashlib\n",
    "\n",
    "VirusDB = [\n",
    "    '44d88612fea8a8f36de82e1278abb02f:EICAR Test',\n",
    "    '253a394610d705549fc580934da4f114:Dummy Test'\n",
    "]\n",
    "\n",
    "vdb = []\n",
    "\n",
    "def MakeVirusDB() :\n",
    "    for pattern in VirusDB : \n",
    "        t = []\n",
    "        v = pattern.split(':')\n",
    "        t.append(v[0])\n",
    "        t.append(v[1])\n",
    "        vdb.append(t)"
   ]
  }
 ],
 "metadata": {
  "kernelspec": {
   "display_name": "Python 3",
   "language": "python",
   "name": "python3"
  },
  "language_info": {
   "codemirror_mode": {
    "name": "ipython",
    "version": 3
   },
   "file_extension": ".py",
   "mimetype": "text/x-python",
   "name": "python",
   "nbconvert_exporter": "python",
   "pygments_lexer": "ipython3",
   "version": "3.13.0"
  }
 },
 "nbformat": 4,
 "nbformat_minor": 2
}
