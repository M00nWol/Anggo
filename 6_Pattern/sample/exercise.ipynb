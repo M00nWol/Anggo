{
 "cells": [
  {
   "cell_type": "markdown",
   "metadata": {},
   "source": [
    "# 6장. 악성코드 패턴 분리"
   ]
  },
  {
   "cell_type": "markdown",
   "metadata": {},
   "source": [
    "## 6.2 악성코드 패턴 파일에서 패턴 로딩하기"
   ]
  },
  {
   "cell_type": "code",
   "execution_count": null,
   "metadata": {},
   "outputs": [],
   "source": [
    "VirusDB = []\n",
    "\n",
    "def LoadVirusDB():\n",
    "    fp = open('../virus.db', 'rb')      # 악성코드 패턴 열기\n",
    "\n",
    "    while True:\n",
    "        line = fp.readline()        # 악성코드 패턴을 한 줄 읽음\n",
    "        if not line : break\n",
    "\n",
    "        line = line.strip()         # 엔터키 제거\n",
    "        VirusDB.append(line)\n",
    "    \n",
    "    fp.close()"
   ]
  }
 ],
 "metadata": {
  "language_info": {
   "name": "python"
  }
 },
 "nbformat": 4,
 "nbformat_minor": 2
}
