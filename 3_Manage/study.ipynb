{
 "cells": [
  {
   "cell_type": "markdown",
   "metadata": {},
   "source": [
    "# 9장. 플러그인 백신 엔진 개발하기"
   ]
  },
  {
   "cell_type": "markdown",
   "metadata": {},
   "source": [
    "[플러그인 엔진의 주요 함수]\n",
    "    - init \n",
    "        - 플러그인 엔진을 초기화 => 각자의 악성코드 패턴 파일을 로딩, 필요한 메모리 확보 등의 일을 처리\n",
    "    - uninit \n",
    "        - 플러그인 엔진 종료 => 로딩된 악성코드 패턴 및 할당된 메모리를\n",
    "    - scan : 악성코드 검사\n",
    "    - disinfect : 악성코드 치료\n",
    "    - listvirus : 플러그인 엔진이 진단/치료 가능한 악성코드의 리스트 알려줌\n",
    "    - getinto : 플러그인 엔진의 주요 정보를 알려줌\n"
   ]
  },
  {
   "cell_type": "code",
   "execution_count": null,
   "metadata": {},
   "outputs": [],
   "source": [
    "\n",
    "import os \n",
    "\n",
    "# 각 플러그인 엔진의 기본 클래스\n",
    "class KavMain:\n",
    "    # 플러그인 초기화\n",
    "    def init(self, plugins_path):\n",
    "        # 진단 / 치료하는 악성코드 이름\n",
    "        self.virus_name = 'Dummy-Test-File (not a virus)'\n",
    "\n",
    "        # 악성코드 패턴 등록 - virus.kmd 파일 로딩하는 부분을 init 함수에 설계하면 됨\n",
    "        self.dummy_pattern = 'Dummy Engine test file - Anggo Anti-Virus Project'\n",
    "        \n",
    "        return 0\n",
    "\n",
    "    # 플러그인 엔진을 종료\n",
    "    def uninit(self):\n",
    "        del self.virus_name\n",
    "        del self.dummy_pattern\n",
    "        \n",
    "        return 0\n",
    "\n",
    "    # 악성코드 검사\n",
    "    def scan(self, filehandle, filename):\n",
    "        try : \n",
    "            # 파일을 열어 악성코드 패턴만큼 파일에서 읽음\n",
    "            fp = open(filename, 'rb')\n",
    "            buf = fp.read(len(self.dummy_pattern))\n",
    "            fp.close \n",
    "            buf = str(buf, 'utf-8')\n",
    "\n",
    "            # 악성코드 패턴을 비교\n",
    "            if buf == self.dummy_pattern:\n",
    "                # 악성코드 값이 같다면 결과 값을 리턴\n",
    "                return True, self.virus_name, 0\n",
    "        except IOError:\n",
    "            pass\n",
    "\n",
    "        # 악성코드를 발견하지 못했음을 리턴\n",
    "        return False, '', -1\n",
    "\n",
    "    # 악성코드 치료\n",
    "    def disinfect(self, filename, malware_id):\n",
    "        try:\n",
    "            # 악성코드 진단 결과에서 받은 ID 값이 0인가?\n",
    "            if malware_id == 0:\n",
    "                os.remove(filename)     # 파일 삭제\n",
    "                return True\n",
    "        except IOError:\n",
    "            pass\n",
    "\n",
    "        return False    # 치료 실패 리턴\n",
    "    \n",
    "\n",
    "\n",
    "    # 플러그인 엔진이 진단/치료 가능한 악성코드 리스트를 알려줌\n",
    "    def listvirus(self):\n",
    "        vlist = list()  # 리스트형 변수 선언\n",
    "\n",
    "        vlist.append(self.virus_name)\n",
    "\n",
    "        return vlist\n",
    "\n",
    "    # 플러그인 엔진의 주요 정보를 알려줌\n",
    "    def getinfo(self):\n",
    "        info = dict()\n",
    "\n",
    "        info['author'] = 'Kei Choi'\n",
    "        info['version'] = '1.0'\n",
    "        info['title'] = 'Dummy Scan Engine'\n",
    "        info['kmd_name'] = 'dummy'\n",
    "\n",
    "        return info\n"
   ]
  },
  {
   "cell_type": "markdown",
   "metadata": {},
   "source": [
    "# 10장. 플러그인 백신 엔진의 암/복호화 도구 만들기"
   ]
  },
  {
   "cell_type": "code",
   "execution_count": null,
   "metadata": {},
   "outputs": [],
   "source": [
    "# RC4 테이블 초기화 의사코드\n",
    "for i from 0 to 255\n",
    "    S[i]:=i\n",
    "end for\n",
    "\n",
    "j := 0\n",
    "\n",
    "for i from 0 to 255\n",
    "    j:= (j + S[i] + key[i mod keylength]) mod 256\n",
    "    swap values of S[i] and S[j]\n",
    "end for"
   ]
  },
  {
   "cell_type": "code",
   "execution_count": null,
   "metadata": {},
   "outputs": [],
   "source": [
    "# RC4 암/복호화 의사코드\n",
    "i := 0\n",
    "j := 0\n",
    "while GeneratingOutput:\n",
    "    i := (i+1)mod 256\n",
    "    j := (j+S[i]) mod 256\n",
    "    swap values of S[i] and S[j]\n",
    "    K := S[(S[i] + S[j]) mod 256]\n",
    "    output K\n",
    "end while"
   ]
  },
  {
   "cell_type": "code",
   "execution_count": null,
   "metadata": {},
   "outputs": [],
   "source": [
    "import os\n",
    "import sys\n",
    "import k2kmdfile\n",
    "\n",
    "if __name__ == '__main__':\n",
    "    #---------------\n",
    "    # 인자값 체크\n",
    "    #---------------\n",
    "    if len(sys.argv) != 2:\n",
    "        print('Usage : kmake.py [python source]')\n",
    "        exit()\n",
    "    \n",
    "    k2kmdfile.make(sys.argv[1], True)"
   ]
  },
  {
   "cell_type": "code",
   "execution_count": null,
   "metadata": {},
   "outputs": [],
   "source": [
    "import hashlib\n",
    "import os\n",
    "import py_compile\n",
    "import random\n",
    "import shutil\n",
    "import struct\n",
    "import zlib\n",
    "import k2rc4\n",
    "import k2timelib\n",
    "\n",
    "\n",
    "# rsa 개인키를 이용해서 주어진 파일을 암호화하여 KMD 파일 생성\n",
    "def make(src_fname, debug=False):\n",
    "    #---------------\n",
    "    # 2) 암호화 대상 파일을 컴파일 또는 복사해서 준비\n",
    "    #---------------\n",
    "    fname = src_fname\n",
    "\n",
    "    if fname.split('.')[1] == 'py':\n",
    "        py_compile.compile(fname, fname+'c', None, True)        # 컴파일\n",
    "        pyc_name = fname+'c'                                    # 컴파일 이후 파일명\n",
    "    else:           # 파이썬 파일이 아닐 경우 확장자를 pyc로 하여 복사\n",
    "        pyc_name = fname.split('.')[0]+'.pyc'\n",
    "        shutil.copy(fname, pyc_name)\n",
    "    \n",
    "\n",
    "    # KMD 파일 생성\n",
    "    # 헤더 : 시그니처(KAVM) + 예약영역\n",
    "    kmd_data = b'KAVM'\n",
    "    ret_date = k2timelib.get_now_date()\n",
    "    ret_time = k2timelib.get_now_time()\n",
    "\n",
    "    val_date = struct.pack('<H', ret_date)\n",
    "    val_time = struct.pack('<H', ret_time)\n",
    "\n",
    "    reserved_buf = val_date + val_time + (b'\\x00'*28)\n",
    "\n",
    "    kmd_data += reserved_buf\n",
    "\n",
    "    # 본문 : 개인키로 암호화한 RC4 키 + RC4로 암호화한 파일\n",
    "    random.seed()\n",
    "\n",
    "    while 1:\n",
    "        tmp_kmd_data = b''\n",
    "        \n",
    "        # RC4 알고리즘에 사용할 128bit 랜덤키 생성\n",
    "        key = random.randbytes(16)\n",
    "        tmp_kmd_data += key\n",
    "\n",
    "        # 생성된 pyc 파일 압축하기\n",
    "        buf1 = open(pyc_name, 'rb').read()\n",
    "        buf2 = zlib.compress(buf1)\n",
    "\n",
    "        e_rc4 = k2rc4.RC4()\n",
    "        e_rc4.set_key(key)\n",
    "\n",
    "        # 압축된 pyc 파일 이미지를 RC4로 암호화 \n",
    "        buf3 = e_rc4.crypt(buf2)\n",
    "\n",
    "        e_rc4 = k2rc4.RC4()\n",
    "        e_rc4.set_key(key)\n",
    "\n",
    "        # 암호화한 압축된 pyc 파일 이미지를 복호화하여 결과가 같은지를 확인\n",
    "        if e_rc4.crypt(buf3) != buf2:\n",
    "            continue\n",
    "\n",
    "        tmp_kmd_data += buf3\n",
    "\n",
    "\n",
    "        # 꼬리 : 개인키로 암호화한 MD5x3\n",
    "        md5 = hashlib.md5()\n",
    "        md5hash = kmd_data + tmp_kmd_data\n",
    "        for i in range(3):\n",
    "            md5.update(md5hash)\n",
    "            md5hash = md5.hexdigest()\n",
    "\n",
    "            md5hash = bytes(md5hash, 'utf-8')\n",
    "\n",
    "        kmd_data += tmp_kmd_data + md5hash\n",
    "        break\n",
    "    \n",
    "    # KMD 파일 생성\n",
    "    ext = fname.find('.')\n",
    "    kmd_name = fname[0:ext] + '.kmd'\n",
    "\n",
    "    try:\n",
    "        if kmd_data:\n",
    "            open(kmd_name, 'wb').write(kmd_data)\n",
    "            os.remove(pyc_name)\n",
    "\n",
    "            if debug:\n",
    "                print('Success : %-13s -> %s' % (fname, kmd_name))\n",
    "            return True\n",
    "        else:\n",
    "            raise IOError\n",
    "        \n",
    "    except IOError:\n",
    "        if debug:\n",
    "            print('Fail : %s' % (fname))\n",
    "        return False\n",
    "    "
   ]
  },
  {
   "cell_type": "markdown",
   "metadata": {},
   "source": [
    "# 11장. 플러그인 백신 엔진을 동적 로딩하기\n",
    "\n",
    "복호화 모듈을 사용해서 플러그인 엔진 복호화 -> 임시 폴더에 pyc 파일로 저장 -> 사용 후 삭제 : 해커가 이를 눈치채고 pyc 파일 삭제를 방해하여 플러그인 엔진 파일을 확보할 것\n",
    "=> 암호화된 플러그인 엔진을 메모리에 복호화한 뒤 메모리에서 직접 로딩하자!"
   ]
  },
  {
   "cell_type": "markdown",
   "metadata": {},
   "source": [
    "## 11.1 암호화된 플러그인 엔진을 동적 로딩하기"
   ]
  },
  {
   "cell_type": "code",
   "execution_count": 11,
   "metadata": {},
   "outputs": [],
   "source": [
    "import k2kmdfile\n",
    "\n",
    "# 특정 파일를 kmd 파일로 만든다. \n",
    "ret = k2kmdfile.make('dummy.py')\n",
    "if ret:\n",
    "    k = k2kmdfile.KMD('dummy.kmd')"
   ]
  },
  {
   "cell_type": "code",
   "execution_count": 15,
   "metadata": {},
   "outputs": [
    {
     "name": "stdout",
     "output_type": "stream",
     "text": [
      "['KavMain', '__builtins__', '__doc__', '__loader__', '__name__', '__package__', '__spec__', 'os']\n"
     ]
    }
   ],
   "source": [
    "import types\n",
    "import k2kmdfile\n",
    "import marshal\n",
    "import sys\n",
    "\n",
    "k = k2kmdfile.KMD('dummy.kmd')      # dummy.kmd 파일 읽기\n",
    "\n",
    "# k.body에 dummy.kmd의 파이썬 코드가 복호화됨\n",
    "code = marshal.loads(k.body[16:])      # pyc에서 파이썬 코드를 로딩\n",
    "module = types.ModuleType('dummy')     # 새로운 모듈 생성\n",
    "exec(code, module.__dict__)            # pyc 파이썬 코드와 모듈 연결\n",
    "sys.modules['dummy'] = module          # 전역에서 사용 가능하게 등록한다\n",
    "\n",
    "print(dir(module))"
   ]
  },
  {
   "cell_type": "markdown",
   "metadata": {},
   "source": [
    "## 11.2 암호화된 플러그인 엔진의 함수 호출하기"
   ]
  },
  {
   "cell_type": "code",
   "execution_count": null,
   "metadata": {},
   "outputs": [
    {
     "ename": "ImportError",
     "evalue": "cannot import name 'load' from 'k2kmdfile' (c:\\Users\\hyuns\\Desktop\\git\\Anggo\\3_Manage\\k2kmdfile.py)",
     "output_type": "error",
     "traceback": [
      "\u001b[31m---------------------------------------------------------------------------\u001b[39m",
      "\u001b[31mImportError\u001b[39m                               Traceback (most recent call last)",
      "\u001b[36mCell\u001b[39m\u001b[36m \u001b[39m\u001b[32mIn[18]\u001b[39m\u001b[32m, line 1\u001b[39m\n\u001b[32m----> \u001b[39m\u001b[32m1\u001b[39m \u001b[38;5;28;01mfrom\u001b[39;00m\u001b[38;5;250m \u001b[39m\u001b[34;01mk2kmdfile\u001b[39;00m\u001b[38;5;250m \u001b[39m\u001b[38;5;28;01mimport\u001b[39;00m load\n\u001b[32m      3\u001b[39m k = k2kmdfile.KMD(\u001b[33m'\u001b[39m\u001b[33mdummy.kmd\u001b[39m\u001b[33m'\u001b[39m)\n\u001b[32m      4\u001b[39m module = k2kmdfile.load(\u001b[33m'\u001b[39m\u001b[33mdummy\u001b[39m\u001b[33m'\u001b[39m, k.body)\n",
      "\u001b[31mImportError\u001b[39m: cannot import name 'load' from 'k2kmdfile' (c:\\Users\\hyuns\\Desktop\\git\\Anggo\\3_Manage\\k2kmdfile.py)"
     ]
    }
   ],
   "source": [
    "import k2kmdfile\n",
    "\n",
    "k = k2kmdfile.KMD('dummy.kmd')\n",
    "module = k2kmdfile.load('dummy', k.body)\n",
    "\n",
    "#------------------\n",
    "# 사용방법 1\n",
    "# k2kmdfile.load 함수의 리턴값으로 직접 사용\n",
    "#------------------\n",
    "kav = module.KavMain()      # dummy 플러그인 엔진의 KavMain 인스턴스 생성\n",
    "kav.init('.')               # 플러그인 엔진 초기화\n",
    "print(kav.getinfo())        # 플러그인 엔진의 정보 확인\n",
    "kav.uninit()                # 플러그인 엔진 종료"
   ]
  }
 ],
 "metadata": {
  "kernelspec": {
   "display_name": "Python 3",
   "language": "python",
   "name": "python3"
  },
  "language_info": {
   "codemirror_mode": {
    "name": "ipython",
    "version": 3
   },
   "file_extension": ".py",
   "mimetype": "text/x-python",
   "name": "python",
   "nbconvert_exporter": "python",
   "pygments_lexer": "ipython3",
   "version": "3.13.0"
  }
 },
 "nbformat": 4,
 "nbformat_minor": 2
}
