{
 "cells": [
  {
   "cell_type": "markdown",
   "metadata": {},
   "source": [
    "# 9장. 플러그인 백신 엔진 개발하기"
   ]
  },
  {
   "cell_type": "markdown",
   "metadata": {},
   "source": [
    "[플러그인 엔진의 주요 함수]\n",
    "    - init \n",
    "        - 플러그인 엔진을 초기화 => 각자의 악성코드 패턴 파일을 로딩, 필요한 메모리 확보 등의 일을 처리\n",
    "    - uninit \n",
    "        - 플러그인 엔진 종료 => 로딩된 악성코드 패턴 및 할당된 메모리를\n",
    "    - scan : 악성코드 검사\n",
    "    - disinfect : 악성코드 치료\n",
    "    - listvirus : 플러그인 엔진이 진단/치료 가능한 악성코드의 리스트 알려줌\n",
    "    - getinto : 플러그인 엔진의 주요 정보를 알려줌\n"
   ]
  },
  {
   "cell_type": "code",
   "execution_count": null,
   "metadata": {},
   "outputs": [],
   "source": [
    "\n",
    "import os \n",
    "\n",
    "# 각 플러그인 엔진의 기본 클래스\n",
    "class KavMain:\n",
    "    # 플러그인 초기화\n",
    "    def init(self, plugins_path):\n",
    "        # 진단 / 치료하는 악성코드 이름\n",
    "        self.virus_name = 'Dummy-Test-File (not a virus)'\n",
    "\n",
    "        # 악성코드 패턴 등록 - virus.kmd 파일 로딩하는 부분을 init 함수에 설계하면 됨\n",
    "        self.dummy_pattern = 'Dummy Engine test file - Anggo Anti-Virus Project'\n",
    "        \n",
    "        return 0\n",
    "\n",
    "    # 플러그인 엔진을 종료\n",
    "    def uninit(self):\n",
    "        del self.virus_name\n",
    "        del self.dummy_pattern\n",
    "        \n",
    "        return 0\n",
    "\n",
    "    # 악성코드 검사\n",
    "    def scan(self, filehandle, filename):\n",
    "        try : \n",
    "            # 파일을 열어 악성코드 패턴만큼 파일에서 읽음\n",
    "            fp = open(filename, 'rb')\n",
    "            buf = fp.read(len(self.dummy_pattern))\n",
    "            fp.close \n",
    "            buf = str(buf, 'utf-8')\n",
    "\n",
    "            # 악성코드 패턴을 비교\n",
    "            if buf == self.dummy_pattern:\n",
    "                # 악성코드 값이 같다면 결과 값을 리턴\n",
    "                return True, self.virus_name, 0\n",
    "        except IOError:\n",
    "            pass\n",
    "\n",
    "        # 악성코드를 발견하지 못했음을 리턴\n",
    "        return False, '', -1\n",
    "\n",
    "    # 악성코드 치료\n",
    "    def disinfect(self, filename, malware_id):\n",
    "        try:\n",
    "            # 악성코드 진단 결과에서 받은 ID 값이 0인가?\n",
    "            if malware_id == 0:\n",
    "                os.remove(filename)     # 파일 삭제\n",
    "                return True\n",
    "        except IOError:\n",
    "            pass\n",
    "\n",
    "        return False    # 치료 실패 리턴\n",
    "    \n",
    "\n",
    "\n",
    "    # 플러그인 엔진이 진단/치료 가능한 악성코드 리스트를 알려줌\n",
    "    def listvirus(self):\n",
    "        vlist = list()  # 리스트형 변수 선언\n",
    "\n",
    "        vlist.append(self.virus_name)\n",
    "\n",
    "        return vlist\n",
    "\n",
    "    # 플러그인 엔진의 주요 정보를 알려줌\n",
    "    def getinfo(self):\n",
    "        info = dict()\n",
    "\n",
    "        info['author'] = 'Kei Choi'\n",
    "        info['version'] = '1.0'\n",
    "        info['title'] = 'Dummy Scan Engine'\n",
    "        info['kmd_name'] = 'dummy'\n",
    "\n",
    "        return info\n"
   ]
  }
 ],
 "metadata": {
  "kernelspec": {
   "display_name": "Python 3",
   "language": "python",
   "name": "python3"
  },
  "language_info": {
   "codemirror_mode": {
    "name": "ipython",
    "version": 3
   },
   "file_extension": ".py",
   "mimetype": "text/x-python",
   "name": "python",
   "nbconvert_exporter": "python",
   "pygments_lexer": "ipython3",
   "version": "3.13.0"
  }
 },
 "nbformat": 4,
 "nbformat_minor": 2
}
