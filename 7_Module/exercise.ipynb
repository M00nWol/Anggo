{
 "cells": [
  {
   "cell_type": "markdown",
   "metadata": {},
   "source": [
    "# 7. 악성코드 진단/치료 모듈 분리하기"
   ]
  },
  {
   "cell_type": "code",
   "execution_count": null,
   "metadata": {},
   "outputs": [],
   "source": [
    "import os\n",
    "import hashlib"
   ]
  },
  {
   "cell_type": "markdown",
   "metadata": {},
   "source": [
    "## 7.1 악성코드 진단 모듈 만들기"
   ]
  },
  {
   "cell_type": "code",
   "execution_count": null,
   "metadata": {},
   "outputs": [],
   "source": [
    "# MD5를 이용해서 악성코드를 검사\n",
    "def ScanMD5(fname):\n",
    "    ret = False     # 악성코드 발견 유무\n",
    "    vname = ''      # 발견된 악성코드 명\n",
    "\n",
    "    size = os.path.getsize(fname)       # 검사 대상 파일 크기를 구함\n",
    "    if vsize.count(size):\n",
    "        fp = open(fname, 'rb')          # 바이너리 모드로 읽기\n",
    "        buf = fp.read()\n",
    "        fp.close()\n",
    "\n",
    "        m = hashlib.md5()\n",
    "        m.update(buf)\n",
    "        fmd5 = m.hexdigest()\n",
    "\n",
    "        ret, vname = SearchVDB(fmd5)    # 악성코드 검사\n",
    "\n",
    "    return ret, vname"
   ]
  }
 ],
 "metadata": {
  "kernelspec": {
   "display_name": "Python 3",
   "language": "python",
   "name": "python3"
  },
  "language_info": {
   "codemirror_mode": {
    "name": "ipython",
    "version": 3
   },
   "file_extension": ".py",
   "mimetype": "text/x-python",
   "name": "python",
   "nbconvert_exporter": "python",
   "pygments_lexer": "ipython3",
   "version": "3.13.0"
  }
 },
 "nbformat": 4,
 "nbformat_minor": 2
}
